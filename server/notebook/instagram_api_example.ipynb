{
 "cells": [
  {
   "cell_type": "code",
   "execution_count": 7,
   "metadata": {
    "collapsed": true
   },
   "outputs": [],
   "source": [
    "import requests\n",
    "\n",
    "CODE = \"89945d342b6b4249b9598498681d0f40\"\n",
    "ACCESS_TOKEN = \"2519317482.7fb02fc.e17e588ebef24e128f964561e1e92be9\"\n",
    "CLIENT_ID = \"7fb02fc3e0bd44d488535401e42bf600\""
   ]
  },
  {
   "cell_type": "code",
   "execution_count": 3,
   "metadata": {},
   "outputs": [
    {
     "data": {
      "text/plain": [
       "{'data': {'bio': '',\n",
       "  'counts': {'followed_by': 4, 'follows': 108, 'media': 3},\n",
       "  'full_name': '',\n",
       "  'id': '2519317482',\n",
       "  'profile_picture': 'https://scontent.cdninstagram.com/t51.2885-19/s150x150/20582880_501177000230463_4386951579786280960_a.jpg',\n",
       "  'username': 'ohmrkn',\n",
       "  'website': ''},\n",
       " 'meta': {'code': 200}}"
      ]
     },
     "execution_count": 3,
     "metadata": {},
     "output_type": "execute_result"
    }
   ],
   "source": [
    "# 自分の情報\n",
    "url = \"https://api.instagram.com/v1/users/self/?access_token=\" + ACCESS_TOKEN\n",
    "res = requests.get(url)\n",
    "res.json()"
   ]
  },
  {
   "cell_type": "code",
   "execution_count": 4,
   "metadata": {},
   "outputs": [
    {
     "data": {
      "text/plain": [
       "{'data': {'bio': '',\n",
       "  'counts': {'followed_by': 4, 'follows': 108, 'media': 3},\n",
       "  'full_name': '',\n",
       "  'id': '2519317482',\n",
       "  'profile_picture': 'https://scontent.cdninstagram.com/t51.2885-19/s150x150/20582880_501177000230463_4386951579786280960_a.jpg',\n",
       "  'username': 'ohmrkn',\n",
       "  'website': ''},\n",
       " 'meta': {'code': 200}}"
      ]
     },
     "execution_count": 4,
     "metadata": {},
     "output_type": "execute_result"
    }
   ],
   "source": [
    "# 任意のユーザ情報\n",
    "self_id = 2519317482\n",
    "url = \"https://api.instagram.com/v1/users/{}/?access_token=\".format(self_id) + ACCESS_TOKEN\n",
    "res = requests.get(url)\n",
    "res.json()"
   ]
  },
  {
   "cell_type": "code",
   "execution_count": 17,
   "metadata": {},
   "outputs": [
    {
     "data": {
      "text/plain": [
       "{'data': {'bio': '',\n",
       "  'counts': {'followed_by': 4, 'follows': 108, 'media': 3},\n",
       "  'full_name': '',\n",
       "  'id': '2519317482',\n",
       "  'profile_picture': 'https://scontent.cdninstagram.com/t51.2885-19/s150x150/20582880_501177000230463_4386951579786280960_a.jpg',\n",
       "  'username': 'ohmrkn',\n",
       "  'website': ''},\n",
       " 'meta': {'code': 200}}"
      ]
     },
     "execution_count": 17,
     "metadata": {},
     "output_type": "execute_result"
    }
   ],
   "source": [
    "# 任意のユーザ情報\n",
    "self_id = 2519317482\n",
    "url = \"https://api.instagram.com/v1/users/{}/?access_token=\".format(self_id) + ACCESS_TOKEN\n",
    "res = requests.get(url)\n",
    "res.json()"
   ]
  },
  {
   "cell_type": "code",
   "execution_count": 18,
   "metadata": {},
   "outputs": [
    {
     "data": {
      "text/plain": [
       "{'data': [], 'meta': {'code': 200}, 'pagination': {}}"
      ]
     },
     "execution_count": 18,
     "metadata": {},
     "output_type": "execute_result"
    }
   ],
   "source": [
    "# 自分がフォローしているユーザの情報\n",
    "url = \"https://api.instagram.com/v1/users/self/followed-by?access_token=\" + ACCESS_TOKEN\n",
    "res = requests.get(url)\n",
    "res.json()"
   ]
  },
  {
   "cell_type": "code",
   "execution_count": null,
   "metadata": {
    "collapsed": true
   },
   "outputs": [],
   "source": []
  }
 ],
 "metadata": {
  "kernelspec": {
   "display_name": "Python 3",
   "language": "python",
   "name": "python3"
  },
  "language_info": {
   "codemirror_mode": {
    "name": "ipython",
    "version": 3
   },
   "file_extension": ".py",
   "mimetype": "text/x-python",
   "name": "python",
   "nbconvert_exporter": "python",
   "pygments_lexer": "ipython3",
   "version": "3.6.2"
  }
 },
 "nbformat": 4,
 "nbformat_minor": 2
}
